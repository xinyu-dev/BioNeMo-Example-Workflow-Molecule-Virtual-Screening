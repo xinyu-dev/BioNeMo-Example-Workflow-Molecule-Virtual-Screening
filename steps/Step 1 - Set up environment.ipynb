{
 "cells": [
  {
   "cell_type": "markdown",
   "metadata": {},
   "source": [
    "# Step 1 - Set up Environment"
   ]
  },
  {
   "cell_type": "markdown",
   "metadata": {},
   "source": [
    "# Get Access to NIMs"
   ]
  },
  {
   "cell_type": "markdown",
   "metadata": {},
   "source": [
    "See [Get Access to NIMs](https://xinyu-dev.gitbook.io/bionemo-gitbook/nim-setup/1.-request-nim-access)"
   ]
  },
  {
   "cell_type": "markdown",
   "metadata": {},
   "source": [
    "# Configure NGC API key"
   ]
  },
  {
   "cell_type": "markdown",
   "metadata": {
    "vscode": {
     "languageId": "plaintext"
    }
   },
   "source": [
    "See [Configure NGC API key](https://xinyu-dev.gitbook.io/bionemo-gitbook/framework-setup/configure-ngc-api-key)"
   ]
  },
  {
   "cell_type": "markdown",
   "metadata": {},
   "source": [
    "# Set up AWS services\n",
    "\n",
    "## Method 1: EC2\n",
    "See [EC2 setup](https://xinyu-dev.gitbook.io/bionemo-gitbook/nim-setup/3.-choose-platform/ec2)\n",
    "\n",
    "## Method 2: SageMaker\n",
    "1. Set up a SageMaker Studio CodeEditor instance with 4x A10 GPUs. \n",
    "2. Install [NGC CLI](https://org.ngc.nvidia.com/setup/installers/cli).  \n",
    "3. Follow [Step 3 on Gitbook page](https://xinyu-dev.gitbook.io/bionemo-gitbook/nim-setup/3.-choose-platform/ec2#step-3.-configure-ngc-and-docker) to configure NGC and Docker. "
   ]
  },
  {
   "cell_type": "markdown",
   "metadata": {},
   "source": [
    "# Check before moving on "
   ]
  },
  {
   "cell_type": "markdown",
   "metadata": {},
   "source": [
    "## Docker\n",
    "\n",
    "```python\n",
    "docker login nvcr.io\n",
    "```\n",
    "Should you see a message like `Login Succeeded`, you are good to go. "
   ]
  },
  {
   "cell_type": "markdown",
   "metadata": {},
   "source": [
    "## NVIDIA container toolkit\n",
    "```python\n",
    "nvidia-smi\n",
    "```\n",
    "should show you the GPUs you have access to. Must be at least 4 GPUs. "
   ]
  },
  {
   "cell_type": "markdown",
   "metadata": {},
   "source": [
    "## NGC\n",
    "```python\n",
    "ngc config set\n",
    "```\n",
    "Should ask for your API key and other infor"
   ]
  },
  {
   "cell_type": "markdown",
   "metadata": {},
   "source": [
    "## Environment variables\n",
    "\n",
    "```bash\n",
    "echo $NGC_API_KEY\n",
    "```\n",
    "Should show you your API key. "
   ]
  },
  {
   "cell_type": "markdown",
   "metadata": {},
   "source": []
  }
 ],
 "metadata": {
  "language_info": {
   "name": "python"
  }
 },
 "nbformat": 4,
 "nbformat_minor": 2
}
