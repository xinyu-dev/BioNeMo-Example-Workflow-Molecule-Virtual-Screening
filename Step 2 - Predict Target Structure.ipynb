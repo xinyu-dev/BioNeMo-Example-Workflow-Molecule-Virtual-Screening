{
 "cells": [
  {
   "cell_type": "markdown",
   "metadata": {},
   "source": [
    "# Predict Target Structure"
   ]
  },
  {
   "cell_type": "code",
   "execution_count": 1,
   "metadata": {},
   "outputs": [],
   "source": [
    "from scripts.protein_folding import *"
   ]
  },
  {
   "cell_type": "markdown",
   "metadata": {},
   "source": [
    "## Download the ESMFold NIM\n",
    "\n",
    "\n",
    "\n",
    "### Download NIM container\n",
    "\n",
    "1.  Run\n",
    "\n",
    "    ```bash\n",
    "    docker pull nvcr.io/nvidia/nim/bionemo_esmfold_nim:24.03\n",
    "    ```\n",
    "2.  Download model\n",
    "\n",
    "    ```bash\n",
    "    mkdir -p ~/esmfold-nim/{weights,models}\n",
    "    ```\n",
    "\n",
    "    Then\n",
    "    ```bash\n",
    "    ngc registry model download-version nvidia/nim/bionemo-esmfold:protein-folding_noarchx1_bf16_24.03 --dest ~/esmfold-nim/models/\n",
    "    ```\n",
    "\n",
    "3.  Download the folding module weights.\n",
    "\n",
    "    ```bash\n",
    "    curl -L https://dl.fbaipublicfiles.com/fair-esm/models/esmfold_3B_v1.pt --output ~/esmfold-nim/weights/esmfold_3B_v1.pt\n",
    "    ```\n",
    "\n",
    "4.  Download the ESM2 3B language model weights.\n",
    "\n",
    "\n",
    "    ```bash\n",
    "    curl -L https://dl.fbaipublicfiles.com/fair-esm/models/esm2_t36_3B_UR50D.pt --output ~/esmfold-nim/weights/esm2_t36_3B_UR50D.pt\n",
    "    ```\n",
    "\n",
    "5.  Download the contact regression model weights.\n",
    "\n",
    "\n",
    "    ```bash\n",
    "    curl -L https://dl.fbaipublicfiles.com/fair-esm/regression/esm2_t36_3B_UR50D-contact-regression.pt --output ~/esmfold-nim/weights/esm2_t36_3B_UR50D-contact-regression.pt\n",
    "    ```\n",
    "\n",
    "6.  Run NIM container\n",
    "\n",
    "    ```bash\n",
    "    docker run --rm -it \\\n",
    "    --name bionemo-esmfold \\\n",
    "    --gpus all \\\n",
    "    -v ~/esmfold-nim/models/bionemo-esmfold_vprotein-folding_noarchx1_bf16_24.03/:/config/models \\\n",
    "    -v ~/esmfold-nim/weights/:/esm_models \\\n",
    "    -e MODEL_PATH=/config/models \\\n",
    "    -p 8008:8008 \\\n",
    "    nvcr.io/nvidia/nim/bionemo_esmfold_nim:24.03\n",
    "    ```\n",
    "7.  Wait until it shows up like this\n",
    "\n",
    "    ```bash\n",
    "    I0421 21:04:17.461556 81 grpc_server.cc:2519] Started GRPCInferenceService at 0.0.0.0:8001\n",
    "    I0421 21:04:17.461909 81 http_server.cc:4637] Started HTTPService at 0.0.0.0:8000\n",
    "    I0421 21:04:17.503485 81 http_server.cc:320] Started Metrics Service at 0.0.0.0:8002\n",
    "    ```\n",
    "\n",
    "\n",
    "### Run health check\n",
    "\n",
    "1.  Run health check at\n",
    "\n",
    "    ```\n",
    "    curl http://localhost:8008/health/ready\n",
    "    ```\n",
    "\n",
    "    Should return True\n",
    "2.  To view docs and API schema, go to\n",
    "\n",
    "    ```\n",
    "    http://localhost:8008/docs\n",
    "    ```\n",
    "\n",
    "\n"
   ]
  },
  {
   "cell_type": "markdown",
   "metadata": {},
   "source": [
    "## Set up the urls"
   ]
  },
  {
   "cell_type": "code",
   "execution_count": null,
   "metadata": {},
   "outputs": [],
   "source": [
    "import requests\n",
    "import os"
   ]
  },
  {
   "cell_type": "code",
   "execution_count": null,
   "metadata": {},
   "outputs": [],
   "source": [
    "base_url = \"http://localhost:8008\" \n",
    "query_url = base_url + \"/protein-structure/esmfold/predict\"\n",
    "health_check_url = base_url + \"/health/ready\"\n",
    "\n",
    "# output directory\n",
    "output = \"output/esmfold_result\"\n",
    "os.makedirs(output, exist_ok=True)\n",
    "\n",
    "\n",
    "# run health check\n",
    "response = requests.get(health_check_url)\n",
    "assert response.text == \"true\", \"Health check failed\""
   ]
  },
  {
   "cell_type": "code",
   "execution_count": null,
   "metadata": {},
   "outputs": [],
   "source": []
  },
  {
   "cell_type": "markdown",
   "metadata": {},
   "source": [
    "## Use your own PDB"
   ]
  },
  {
   "cell_type": "markdown",
   "metadata": {},
   "source": [
    "## Check before you move on"
   ]
  },
  {
   "cell_type": "markdown",
   "metadata": {},
   "source": []
  }
 ],
 "metadata": {
  "kernelspec": {
   "display_name": "base",
   "language": "python",
   "name": "python3"
  },
  "language_info": {
   "codemirror_mode": {
    "name": "ipython",
    "version": 3
   },
   "file_extension": ".py",
   "mimetype": "text/x-python",
   "name": "python",
   "nbconvert_exporter": "python",
   "pygments_lexer": "ipython3",
   "version": "3.9.15"
  }
 },
 "nbformat": 4,
 "nbformat_minor": 2
}
