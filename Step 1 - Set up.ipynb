{
 "cells": [
  {
   "cell_type": "markdown",
   "metadata": {},
   "source": [
    "# Step 1 - Set up"
   ]
  },
  {
   "cell_type": "markdown",
   "metadata": {},
   "source": [
    "## Get Access to NIMs"
   ]
  },
  {
   "cell_type": "markdown",
   "metadata": {},
   "source": [
    "See [Get Access to NIMs](https://xinyu-dev.gitbook.io/bionemo-gitbook/nim-setup/1.-request-nim-access)"
   ]
  },
  {
   "cell_type": "markdown",
   "metadata": {},
   "source": [
    "## Configure NGC API key"
   ]
  },
  {
   "cell_type": "markdown",
   "metadata": {
    "vscode": {
     "languageId": "plaintext"
    }
   },
   "source": [
    "1. Obtain your NGC API key [following the guide](https://xinyu-dev.gitbook.io/bionemo-gitbook/framework-setup/configure-ngc-api-key). \n",
    "2. You do not need to run `ngc config set` until you're inside your AWS instance"
   ]
  },
  {
   "cell_type": "markdown",
   "metadata": {},
   "source": [
    "## Set up AWS services\n",
    "\n",
    "### Method 1: EC2\n",
    "See [EC2 setup](https://xinyu-dev.gitbook.io/bionemo-gitbook/nim-setup/3.-choose-platform/ec2)\n",
    "\n",
    "### Method 2: SageMaker\n",
    "1. Set up a SageMaker Studio CodeEditor instance with 4x A10 GPUs. \n",
    "2. Install [NGC CLI](https://org.ngc.nvidia.com/setup/installers/cli).  \n",
    "3. Follow [Step 3 on Gitbook page](https://xinyu-dev.gitbook.io/bionemo-gitbook/nim-setup/3.-choose-platform/ec2#step-3.-configure-ngc-and-docker) to configure NGC and Docker. "
   ]
  },
  {
   "cell_type": "markdown",
   "metadata": {},
   "source": [
    "## Configure Environemnt variables\n",
    "\n",
    "\n",
    "Open a terminal on your AWS instance, run the following command in your terminal: \n",
    "```bash\n",
    "echo \"export NGC_API_KEY=YOUR_API_KEY\" >> ~/.bashrc && source ~/.bashrc\n",
    "```\n",
    "\n",
    "Then also run this:  \n",
    "```bash\n",
    "echo \"export NGC_CLI_API_KEY=YOUR_API_KEY\" >> ~/.bashrc && source ~/.bashrc\n",
    "```"
   ]
  },
  {
   "cell_type": "markdown",
   "metadata": {},
   "source": [
    "## Set up Conda environment"
   ]
  },
  {
   "cell_type": "markdown",
   "metadata": {},
   "source": [
    "Create a conda environment with the name `workshop`. \n",
    "\n",
    "```bash\n",
    "conda env create -f environment.yaml -n workshop\n",
    "```\n",
    "\n",
    "Then activate the environment using: \n",
    "\n",
    "EC: \n",
    "```bash\n",
    "conda activate workshop\n",
    "```\n",
    "\n",
    "SageMaker: \n",
    "```bash\n",
    "source /home/ec2-user/anaconda3/bin/activate workshop\n",
    "```"
   ]
  },
  {
   "cell_type": "markdown",
   "metadata": {},
   "source": [
    "## Download models"
   ]
  },
  {
   "cell_type": "markdown",
   "metadata": {},
   "source": [
    "1. `CD` into this repository\n",
    "2. Run the following command to make the script executable:\n",
    "    ```bash\n",
    "    chmod +x download.sh\n",
    "    ```\n",
    "4. Run the following command to download the script:\n",
    "    ```bash\n",
    "    bash download.sh\n",
    "    ```\n"
   ]
  }
 ],
 "metadata": {
  "kernelspec": {
   "display_name": "Python 3",
   "language": "python",
   "name": "python3"
  },
  "language_info": {
   "name": "python",
   "version": "3.11.9"
  }
 },
 "nbformat": 4,
 "nbformat_minor": 2
}
